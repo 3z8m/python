{
 "cells": [
  {
   "cell_type": "markdown",
   "metadata": {},
   "source": [
    "### 変数の入力"
   ]
  },
  {
   "cell_type": "code",
   "execution_count": 1,
   "metadata": {},
   "outputs": [
    {
     "name": "stdin",
     "output_type": "stream",
     "text": [
      "あなたの年齢は？： 50\n"
     ]
    },
    {
     "name": "stdout",
     "output_type": "stream",
     "text": [
      "若々しいですね！\n"
     ]
    }
   ],
   "source": [
    "# 変数の入力\n",
    "age = input(\"あなたの年齢は？：\")\n",
    "\n",
    "# 条件分岐\n",
    "if age == \"43\":\n",
    "    print(\"同じ年ですね！\")\n",
    "    \n",
    "elif age < \"43\":\n",
    "    print(\"しっかりしてますね！\")\n",
    "    \n",
    "else:\n",
    "    print(\"若々しいですね！\")"
   ]
  },
  {
   "cell_type": "code",
   "execution_count": null,
   "metadata": {},
   "outputs": [],
   "source": []
  }
 ],
 "metadata": {
  "kernelspec": {
   "display_name": "Python 3",
   "language": "python",
   "name": "python3"
  },
  "language_info": {
   "codemirror_mode": {
    "name": "ipython",
    "version": 3
   },
   "file_extension": ".py",
   "mimetype": "text/x-python",
   "name": "python",
   "nbconvert_exporter": "python",
   "pygments_lexer": "ipython3",
   "version": "3.8.5"
  }
 },
 "nbformat": 4,
 "nbformat_minor": 5
}
