{
 "cells": [
  {
   "cell_type": "code",
   "execution_count": 2,
   "id": "51fcf67e",
   "metadata": {},
   "outputs": [
    {
     "name": "stdout",
     "output_type": "stream",
     "text": [
      "  Lot Process  C1  C2  C3  C4  C5\n",
      "0   A       X   9   8   5   6   9\n",
      "1   A       Y   9   7   3   7   8\n",
      "2   B       X   8   6   4   5   9\n",
      "3   B       Y   7   5   3   2   5\n",
      "4   C       X   6   8   8   5   3\n",
      "5   C       Y   5   7   6   4   2\n"
     ]
    }
   ],
   "source": [
    "import pandas as pd\n",
    "\n",
    "c = [\"Lot\", \"Process\", \"C1\", \"C2\", \"C3\", \"C4\", \"C5\"]\n",
    "\n",
    "i = [\"0\", \"1\", \"2\", \"3\", \"4\", \"5\",]\n",
    "\n",
    "d = [[\"A\", \"X\", 9, 8, 5, 6, 9],\n",
    "     [\"A\", \"Y\", 9, 7, 3, 7, 8],\n",
    "     [\"B\", \"X\", 8, 6, 4, 5, 9],\n",
    "     [\"B\", \"Y\", 7, 5, 3, 2, 5],\n",
    "     [\"C\", \"X\", 6, 8, 8, 5, 3],\n",
    "     [\"C\", \"Y\", 5, 7, 6, 4, 2]]\n",
    "\n",
    "df = pd.DataFrame(data = d, columns = c, index = i)\n",
    "print(df)"
   ]
  },
  {
   "cell_type": "code",
   "execution_count": 3,
   "id": "3c77dd95",
   "metadata": {},
   "outputs": [],
   "source": [
    "df.to_csv(\"tmp.csv\")"
   ]
  },
  {
   "cell_type": "code",
   "execution_count": null,
   "id": "3ac50a39",
   "metadata": {},
   "outputs": [],
   "source": []
  }
 ],
 "metadata": {
  "kernelspec": {
   "display_name": "Python 3",
   "language": "python",
   "name": "python3"
  },
  "language_info": {
   "codemirror_mode": {
    "name": "ipython",
    "version": 3
   },
   "file_extension": ".py",
   "mimetype": "text/x-python",
   "name": "python",
   "nbconvert_exporter": "python",
   "pygments_lexer": "ipython3",
   "version": "3.8.8"
  }
 },
 "nbformat": 4,
 "nbformat_minor": 5
}
